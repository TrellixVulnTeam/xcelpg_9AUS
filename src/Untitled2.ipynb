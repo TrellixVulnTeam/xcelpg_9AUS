{
 "cells": [
  {
   "cell_type": "code",
   "execution_count": 1,
   "id": "ef936340-c910-4557-971f-cbb7cf6d31c8",
   "metadata": {},
   "outputs": [],
   "source": [
    "import openpyxl"
   ]
  },
  {
   "cell_type": "code",
   "execution_count": 2,
   "id": "8b29d62b-aefb-4955-a785-70011ead7cca",
   "metadata": {},
   "outputs": [],
   "source": [
    "path = r\".\\dumLeads.xlsx\""
   ]
  },
  {
   "cell_type": "code",
   "execution_count": null,
   "id": "633b5ea4-eae2-4874-a24b-025468f33f06",
   "metadata": {},
   "outputs": [],
   "source": [
    "\n",
    "\n"
   ]
  },
  {
   "cell_type": "code",
   "execution_count": null,
   "id": "96d9aa02-929d-4029-8306-c64db24ea634",
   "metadata": {},
   "outputs": [],
   "source": []
  }
 ],
 "metadata": {
  "kernelspec": {
   "display_name": "Python 3 (ipykernel)",
   "language": "python",
   "name": "python3"
  },
  "language_info": {
   "codemirror_mode": {
    "name": "ipython",
    "version": 3
   },
   "file_extension": ".py",
   "mimetype": "text/x-python",
   "name": "python",
   "nbconvert_exporter": "python",
   "pygments_lexer": "ipython3",
   "version": "3.10.6"
  }
 },
 "nbformat": 4,
 "nbformat_minor": 5
}
