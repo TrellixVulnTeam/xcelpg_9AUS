{
 "cells": [
  {
   "cell_type": "code",
   "execution_count": 1,
   "id": "6b0eabd7-e26b-4151-bf5d-016293fade95",
   "metadata": {},
   "outputs": [],
   "source": [
    "import pandas as pd"
   ]
  },
  {
   "cell_type": "code",
   "execution_count": 2,
   "id": "69b8b622-220b-4a6d-bae7-190af0628c7d",
   "metadata": {},
   "outputs": [],
   "source": [
    "x = pd.read_excel('dumLeads.xlsx')"
   ]
  },
  {
   "cell_type": "code",
   "execution_count": 7,
   "id": "393cfc7d-99ad-4a51-bc2f-a1c62649cb28",
   "metadata": {},
   "outputs": [
    {
     "data": {
      "text/plain": [
       "Index(['S. No', 'DATE', 'SOURCE', 'SUBSOURCE', 'Customer name', 'Phone number',\n",
       "       'Email ID', 'Whether Duplicate', 'RM', 'Unnamed: 9', 'to be reviewed',\n",
       "       'qualified', 'Enquriy status', 'INTRESTED STATUS ', 'DEAD REASON',\n",
       "       'Unnamed: 15', 'SV DONE ', 'SV DONE status', 'Dead Reason',\n",
       "       'Unnamed: 19', 'Remark 1', 'Remarks 2'],\n",
       "      dtype='object')"
      ]
     },
     "execution_count": 7,
     "metadata": {},
     "output_type": "execute_result"
    }
   ],
   "source": [
    "x.columns"
   ]
  },
  {
   "cell_type": "code",
   "execution_count": 9,
   "id": "1cf6eba6-669d-4fb5-beca-eac9dd24fa6b",
   "metadata": {},
   "outputs": [
    {
     "data": {
      "text/plain": [
       "'S. No'"
      ]
     },
     "execution_count": 9,
     "metadata": {},
     "output_type": "execute_result"
    }
   ],
   "source": [
    "x.columns[0]                                                                                                    \n"
   ]
  },
  {
   "cell_type": "code",
   "execution_count": null,
   "id": "3068f1ca-bd04-43b9-80cc-5383dcf2c5e0",
   "metadata": {},
   "outputs": [],
   "source": []
  }
 ],
 "metadata": {
  "kernelspec": {
   "display_name": "Python 3 (ipykernel)",
   "language": "python",
   "name": "python3"
  },
  "language_info": {
   "codemirror_mode": {
    "name": "ipython",
    "version": 3
   },
   "file_extension": ".py",
   "mimetype": "text/x-python",
   "name": "python",
   "nbconvert_exporter": "python",
   "pygments_lexer": "ipython3",
   "version": "3.10.6"
  }
 },
 "nbformat": 4,
 "nbformat_minor": 5
}
