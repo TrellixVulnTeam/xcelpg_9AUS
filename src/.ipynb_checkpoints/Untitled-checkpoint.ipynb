{
 "cells": [
  {
   "cell_type": "code",
   "execution_count": 1,
   "id": "2773dc5e-ce38-407e-b557-4ab26715b239",
   "metadata": {},
   "outputs": [],
   "source": [
    "name = 'vijay'"
   ]
  },
  {
   "cell_type": "code",
   "execution_count": 2,
   "id": "1a8ae3e5-ba42-4fb4-8f6d-84f1f5e82abd",
   "metadata": {},
   "outputs": [],
   "source": [
    "age = 28"
   ]
  },
  {
   "cell_type": "code",
   "execution_count": 21,
   "id": "d5e4aaa6-346c-4e0e-a25d-b3330e26c448",
   "metadata": {},
   "outputs": [],
   "source": [
    "greeting = 'my name is  '+ name  + ' and i am' + str(age)+' year old'"
   ]
  },
  {
   "cell_type": "code",
   "execution_count": 22,
   "id": "7cf72b0b-e6f8-4e6a-8c0f-318a2aa810f0",
   "metadata": {},
   "outputs": [
    {
     "name": "stdout",
     "output_type": "stream",
     "text": [
      "my name is  vijay28 and i am year old\n"
     ]
    }
   ],
   "source": [
    "print(greeting)"
   ]
  },
  {
   "cell_type": "code",
   "execution_count": null,
   "id": "41a4be44-17d4-4854-b4f7-b17a7c4d2374",
   "metadata": {},
   "outputs": [],
   "source": []
  }
 ],
 "metadata": {
  "kernelspec": {
   "display_name": "Python 3 (ipykernel)",
   "language": "python",
   "name": "python3"
  },
  "language_info": {
   "codemirror_mode": {
    "name": "ipython",
    "version": 3
   },
   "file_extension": ".py",
   "mimetype": "text/x-python",
   "name": "python",
   "nbconvert_exporter": "python",
   "pygments_lexer": "ipython3",
   "version": "3.10.6"
  }
 },
 "nbformat": 4,
 "nbformat_minor": 5
}
