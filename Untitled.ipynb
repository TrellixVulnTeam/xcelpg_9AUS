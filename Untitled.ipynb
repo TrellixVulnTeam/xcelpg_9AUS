{
 "cells": [
  {
   "cell_type": "code",
   "execution_count": 1,
   "id": "9edf2350-1481-4f5d-a3de-eaa439f4507a",
   "metadata": {},
   "outputs": [],
   "source": [
    "import pandas as pd "
   ]
  },
  {
   "cell_type": "code",
   "execution_count": null,
   "id": "f117acfc-8600-4b4b-8604-2c47f03bb190",
   "metadata": {},
   "outputs": [],
   "source": [
    "pd.excel_read('"
   ]
  }
 ],
 "metadata": {
  "kernelspec": {
   "display_name": "Python 3 (ipykernel)",
   "language": "python",
   "name": "python3"
  },
  "language_info": {
   "codemirror_mode": {
    "name": "ipython",
    "version": 3
   },
   "file_extension": ".py",
   "mimetype": "text/x-python",
   "name": "python",
   "nbconvert_exporter": "python",
   "pygments_lexer": "ipython3",
   "version": "3.10.6"
  }
 },
 "nbformat": 4,
 "nbformat_minor": 5
}
